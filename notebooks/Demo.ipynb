{
 "cells": [
  {
   "cell_type": "code",
   "execution_count": null,
   "metadata": {},
   "outputs": [],
   "source": [
    "# Only un-comment the below two lines if working with local copy of this library\n",
    "\n",
    "# import sys\n",
    "# sys.path.append(\"../\")"
   ]
  },
  {
   "cell_type": "code",
   "execution_count": 17,
   "metadata": {},
   "outputs": [],
   "source": [
    "from IPython.display import display, Markdown\n",
    "from mdparse.parser import transform_pre_rules, compose"
   ]
  },
  {
   "cell_type": "code",
   "execution_count": 18,
   "metadata": {},
   "outputs": [
    {
     "name": "stdout",
     "output_type": "stream",
     "text": [
      "Python 3.7.3\r\n"
     ]
    }
   ],
   "source": [
    "!python -V"
   ]
  },
  {
   "cell_type": "markdown",
   "metadata": {},
   "source": [
    "## Example Markdown File\n",
    "\n",
    "Below is an example markdown file that we will parse in a way that is amenable for deep learning.  The example below includes special formatting, such as tables, hyperlinks and headings to illustrate how the markdown will be parsed."
   ]
  },
  {
   "cell_type": "code",
   "execution_count": 19,
   "metadata": {},
   "outputs": [
    {
     "data": {
      "text/markdown": [
       "# This is a test markdown that has different types of formatting\n",
       "\n",
       "## Header 2\n",
       "\n",
       " Hello **world** this is going to be a long sentence that. also has a newline:\n",
       " lala lala\n",
       " \n",
       "continuing the sentence here.\n",
       "more text.\n",
       " \n",
       " - bullet 1\n",
       " - bullet 2\n",
       " \n",
       "\"quoted text\"\n",
       "\n",
       "#### a small header\n",
       "\n",
       "```python\n",
       "def something(x):\n",
       "    \\\"\"\"docstring\\\"\"\"\n",
       "    #some comment\n",
       "    somevar = 123\n",
       "    anothervar = somevar * 3\n",
       "    for i in range(33):\n",
       "        anothervar *= i\n",
       "    \n",
       "    if i % 2 == 0:\n",
       "        return True\n",
       "    else:\n",
       "        return False\n",
       "```\n",
       "\n",
       "@mention somebody\n",
       "\n",
       "> blockquote text is here!\n",
       " \n",
       " [hobbit-hole][1]\n",
       " \n",
       " 1. first\n",
       " \n",
       " 2. second\n",
       " \n",
       "\n",
       " > what this?\n",
       " \n",
       " ![Tux, the Linux mascot](https://d33wubrfki0l68.cloudfront.net/e7ed9fe4bafe46e275c807d63591f85f9ab246ba/e2d28/assets/images/tux.png)\n",
       " \n",
       " \n",
       " [1]: <https://en.wikipedia.org/wiki/Hobbit#Lifestyle> \"Hobbit lifestyles\"\n",
       " \n",
       "| First Header  | Second Header |\n",
       "| ------------- | ------------- |\n",
       "| Content Cell  | Content Cell  |\n",
       "| Content Cell  | Content Cell  |\n",
       " \n",
       " ----\n",
       " \n",
       " Hello `something` here and __stuff__ is _there_.  [google](www.google.com/search). random text\n",
       "    \n",
       "~~The world is flat.~~ We now know that the world is round.\n",
       "\n",
       "- [x] Write the press release\n",
       "- [ ] Update the website\n",
       "- [ ] Contact the media\n",
       "\n",
       "\n",
       "`http://www.example.com`"
      ],
      "text/plain": [
       "<IPython.core.display.Markdown object>"
      ]
     },
     "execution_count": 19,
     "metadata": {},
     "output_type": "execute_result"
    }
   ],
   "source": [
    "with open('../example.md', 'r') as f:\n",
    "    md = f.read()\n",
    "    \n",
    "Markdown(md)"
   ]
  },
  {
   "cell_type": "markdown",
   "metadata": {},
   "source": [
    "## Parse Markdown"
   ]
  },
  {
   "cell_type": "code",
   "execution_count": 20,
   "metadata": {},
   "outputs": [
    {
     "name": "stdout",
     "output_type": "stream",
     "text": [
      "xxxhl This is a test markdown that has different types of formatting\n",
      "xxxhm Header 2\n",
      "Hello world this is going to be a long sentence that. also has a newline:\n",
      " lala lala\n",
      "continuing the sentence here.\n",
      "more text.\n",
      "xxxlistB bullet 1\n",
      "bullet 2\n",
      "xxxlistE\n",
      "\"quoted text\"\n",
      "xxxhs a small header\n",
      " xxxcdb lang-python def something(x):\n",
      " \\\"\"\"docstring\\\"\"\"\n",
      " return False\n",
      " xxxcde xxxatmention  somebody\n",
      "xxxqb blockquote text is here!\n",
      "xxxqe\n",
      "hobbit-hole xxxlnkhb xxxhtml xxxlnkhe xxxlnktb Hobbit lifestyles xxxlnkte xxxlistB first\n",
      "second\n",
      "xxxlistE\n",
      "xxxqb what this?\n",
      "xxxqe\n",
      "xxximg Tux, the Linux mascot xxximgf png\n",
      "xxtbl First Header|Second Header\n",
      "xxxhr Hello xxxcdb something xxxcde here and stuff is there. google xxxlnkhb www.google.com xxxlnkhe. random text\n",
      "xxxdelb The world is flat. xxxdele We now know that the world is round.\n",
      "xxxlistB [x] Write the press release\n",
      "[ ] Update the website\n",
      "[ ] Contact the media\n",
      "xxxlistE\n",
      " xxxcdb http://www.example.com xxxcde\n"
     ]
    }
   ],
   "source": [
    "result = compose(transform_pre_rules)(md)\n",
    "print(result)"
   ]
  },
  {
   "cell_type": "code",
   "execution_count": null,
   "metadata": {},
   "outputs": [],
   "source": []
  }
 ],
 "metadata": {
  "kernelspec": {
   "display_name": "mdtok",
   "language": "python",
   "name": "mdtok"
  },
  "language_info": {
   "codemirror_mode": {
    "name": "ipython",
    "version": 3
   },
   "file_extension": ".py",
   "mimetype": "text/x-python",
   "name": "python",
   "nbconvert_exporter": "python",
   "pygments_lexer": "ipython3",
   "version": "3.7.3"
  }
 },
 "nbformat": 4,
 "nbformat_minor": 2
}
